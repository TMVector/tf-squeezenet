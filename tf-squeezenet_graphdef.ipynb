{
 "cells": [
  {
   "cell_type": "code",
   "execution_count": 4,
   "metadata": {},
   "outputs": [
    {
     "name": "stdout",
     "output_type": "stream",
     "text": [
      "INFO:tensorflow:Saver not created because there are no variables in the graph to restore\n",
      "INFO:tensorflow:The specified SavedModel has no variables; no checkpoints were restored.\n"
     ]
    }
   ],
   "source": [
    "import tensorflow as tf\n",
    "\n",
    "with tf.Session(graph=tf.Graph()) as sess:\n",
    "    tf.saved_model.loader.load(sess, [tf.saved_model.tag_constants.SERVING], 'logSM_modified')\n",
    "\n",
    "    tf.train.write_graph(sess.graph_def, '.', 'tf-squeezenet_mod.graph.pbtxt')\n",
    "    \n",
    "    # Replace nodes that have only const inputs with an equivalent const node\n",
    "    "
   ]
  },
  {
   "cell_type": "code",
   "execution_count": 3,
   "metadata": {},
   "outputs": [
    {
     "name": "stdout",
     "output_type": "stream",
     "text": [
      "INFO:tensorflow:No assets to save.\n",
      "INFO:tensorflow:No assets to write.\n",
      "INFO:tensorflow:SavedModel written to: b'savedmodel/saved_model.pb'\n"
     ]
    }
   ],
   "source": [
    "graph = tf.Graph()\n",
    "with graph.as_default(), open('optimized_graph.pb', 'rb') as f:\n",
    "    graph_def = tf.GraphDef.FromString(f.read())\n",
    "    tf.import_graph_def(graph_def, name='') # Btw this returns a saver you can use to load a checkpoint\n",
    "\n",
    "with tf.Session(graph=graph) as sess:\n",
    "    builder = tf.saved_model.builder.SavedModelBuilder('savedmodel')\n",
    "    builder.add_meta_graph_and_variables(sess, [tf.saved_model.tag_constants.SERVING])\n",
    "    builder.save()\n",
    "    \n",
    "    # For tensorboard\n",
    "    #tf.summary.FileWriter('./log', graph=sess.graph).flush()"
   ]
  },
  {
   "cell_type": "code",
   "execution_count": null,
   "metadata": {
    "collapsed": true
   },
   "outputs": [],
   "source": []
  }
 ],
 "metadata": {
  "kernelspec": {
   "display_name": "Python 3",
   "language": "python",
   "name": "python3"
  },
  "language_info": {
   "codemirror_mode": {
    "name": "ipython",
    "version": 3
   },
   "file_extension": ".py",
   "mimetype": "text/x-python",
   "name": "python",
   "nbconvert_exporter": "python",
   "pygments_lexer": "ipython3",
   "version": "3.6.2"
  }
 },
 "nbformat": 4,
 "nbformat_minor": 2
}
